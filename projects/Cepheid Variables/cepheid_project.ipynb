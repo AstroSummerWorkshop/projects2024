{
 "cells": [
  {
   "attachments": {},
   "cell_type": "markdown",
   "metadata": {},
   "source": [
    "# Cepheid Variables & Leavitt's Law: Deriving Distances Across Space"
   ]
  },
  {
   "cell_type": "markdown",
   "metadata": {},
   "source": [
    "## Background\n",
    "Measuring distances is difficult. Unlike on earth where we can just take out a measuring tape, Astronomers have to figure out standards of distance; these standards make up what is known as the Distance Ladder and allow us to measure distances across space with great accuracy.\n",
    "\n",
    "![image](distance_ladder.jpg)\n",
    "\n",
    "One way we can think about measuring distance is with starlight. As you get further from an object, say a light bulb, it appears dimmer; as you move closer, it appears brighter. The brightness we measure drops off as an *inverse square law* where we have:\n",
    "$ F = \\frac{L}{4\\pi{r^2}}$.\n",
    "Here, $F$ is the apparent brightness of a star, $L$ is its intrinsic brightness (also known as luminosity), and $r$ is our distance from it.  \n",
    "#### Therefore, if you know the intrinisc brightness of a star, you can measure its distance based on what you measure as its apparent brightness on Earth. \n",
    "\n",
    "Astronomers, however, often think of brightness in a (confusing) magnitude scale, where larger magnitudes are dimmer and smalller (or more negative) magnitudes represent brighter sources. Astronomers have created the *distance modulus* to represent the *inverse square law* behaviour of starlight in the magnitude scale:\n",
    "### $m - M = 5\\log_{10}(\\frac{d}{10 \\textrm{pc}})$\n",
    "where $m$ is its apparent magnitude (what we see), $M$ is its intrinsic magnitude, and $d$ is its distance in parsecs.\n",
    "\n",
    "In your project, you will be working with Cepheid variables, an important rung of the distance ladder for calibrating distances at *extragalactic scales*. A Cepheid variable is a type of regularly pulsating star with pulsation periods on the order of days to months. In the 1800s while studying a collection of Cepheid variables in a Milky Way satelite galaxy, Henrietta Swan Leavitt discovered that the *logarithm of the pulsation period of Cepheids is lineary related to its intrinsic luminosity*. Therefore, if we observe a Cepheid, we can figure out its intrinsic lumunoisty from its pulsation period, and thus know its distance from the *inverse square law* relationship. Edwin Hubble used Leavitt's Cepheid period relation to find the distance to our nearest galaxy, Andromeda (M31) and proving that M31 is in fact a seperate galaxy from the Milky Way, not a dusty nebular cloud.\n",
    "\n",
    "<!-- ![image](440px-HSLeavittHSCr13Fig2_1912.jpg) -->\n",
    "![image](period_lum.webp)\n",
    "\n"
   ]
  },
  {
   "cell_type": "markdown",
   "metadata": {},
   "source": [
    "## Why do we care about distances in astronomy?\n",
    "\n",
    "For centuries, astronomers debated on the true nature of some fuzzy looking things on the dark night sky. In the mid 1700s, philosopher Immanual Kant proposed the idea of so-called \"island universes\"--galaxies existing independently from the Milky Way. However until the early 1900s, the Milky Way Galaxy was thought to be the end all be all for our universe. \n",
    "\n",
    "Then came the pivotal \"Great Debate of 1920\", where astronomers Harlow Shapely and Heber Curtis clashed over the true size of our universe. Harlow Shapely was convinced that the Milky Way Galaxy was all there was, until 1925 when Edwin Hubble calculated the distance to M31 (also known as Andromeda Galaxy) and proved that this object was too far away to be within the Milky Way Galaxy. With this discovery, Hubble essentially expanded the size of the known universe by a factor of a million. Allegedly, Hubble sent Shapely a letter showing his calculations, to which Shapely showed his colleague and remarked \"here is the letter that destroyed my universe.\"\n",
    "\n",
    "![zoom_out](zoom_out.webp)"
   ]
  },
  {
   "cell_type": "markdown",
   "metadata": {},
   "source": [
    "### By the end of this project, you will be able to explain:\n",
    "- How astronomers measure distances across space\n",
    "- Variable stars\n",
    "- Leavitt's law the Period-Luminosity relation"
   ]
  },
  {
   "cell_type": "markdown",
   "metadata": {},
   "source": [
    "## Learning Questions\n",
    "Please watch the following videos and answer these questions below.\n",
    "- Cepheid Variables: https://www.youtube.com/watch?v=BWs-ONRDDG4\n",
    "- The Distance Ladder: https://www.youtube.com/watch?v=rV-Z6jk9Fkw"
   ]
  },
  {
   "cell_type": "markdown",
   "metadata": {},
   "source": [
    "### True of False Questions: Explain your answer"
   ]
  },
  {
   "cell_type": "markdown",
   "metadata": {},
   "source": [
    "### Q1. True or False: Star A and Star B have the same intrinsic brightness. Star A *looks* brighter, so it must be farther than Star B."
   ]
  },
  {
   "cell_type": "markdown",
   "metadata": {},
   "source": []
  },
  {
   "cell_type": "markdown",
   "metadata": {},
   "source": [
    "### Q2. True or False: The greater the intrinsic brightness of a Cepheid variable star, the longer it's period."
   ]
  },
  {
   "cell_type": "markdown",
   "metadata": {},
   "source": []
  },
  {
   "cell_type": "markdown",
   "metadata": {},
   "source": [
    "### Q3. What is a Cepheid Variable and why can we measure distances with them?"
   ]
  },
  {
   "cell_type": "markdown",
   "metadata": {},
   "source": []
  },
  {
   "cell_type": "markdown",
   "metadata": {},
   "source": [
    "### Q4. What is the distance ladder?"
   ]
  },
  {
   "cell_type": "markdown",
   "metadata": {},
   "source": []
  },
  {
   "cell_type": "markdown",
   "metadata": {},
   "source": [
    "### Q5. Why are Cepheids a good standard candle?"
   ]
  },
  {
   "cell_type": "markdown",
   "metadata": {},
   "source": []
  },
  {
   "cell_type": "markdown",
   "metadata": {},
   "source": [
    "### Q6. How did Edwin Hubble measure distances to other galaxies?"
   ]
  },
  {
   "cell_type": "markdown",
   "metadata": {},
   "source": []
  },
  {
   "cell_type": "markdown",
   "metadata": {},
   "source": [
    "### Q7. From Earth, the Sun is very bright and has an apparent magnitude of around $m \\sim -27$ mags. Say the Sun is placed 10 parsecs away from us, what is its *absolute magnitude* ($M$)?"
   ]
  },
  {
   "cell_type": "markdown",
   "metadata": {},
   "source": []
  },
  {
   "cell_type": "markdown",
   "metadata": {},
   "source": [
    "## Project: Deriving Leavitt's Law\n",
    "In this project, you will derive your own version of Leavitt's law and estimate the distance to Andromeda (M31), the nearest large galaxy to the Milky Way. "
   ]
  },
  {
   "attachments": {},
   "cell_type": "markdown",
   "metadata": {},
   "source": [
    "## Imports"
   ]
  },
  {
   "cell_type": "code",
   "execution_count": null,
   "metadata": {
    "collapsed": true,
    "jupyter": {
     "outputs_hidden": true
    }
   },
   "outputs": [],
   "source": [
    "import pandas as pd #for reading in data files\n",
    "import matplotlib.pyplot as plt #for plotting our data\n",
    "import numpy as np #for certain math operations\n",
    "from scipy import polyfit"
   ]
  },
  {
   "cell_type": "markdown",
   "metadata": {},
   "source": [
    "## 1. Learning how to manipulate data: load Cepheid period and V-band magnitude\n",
    "\n",
    "We have a catalog of various Cepheids with their periods ($P$) in years, Absolute Magnitude ($MV$), and Apparent Magnitude ($m$). These magnitudes are the ***median*** magnitudes in the range of the pulsation.\n",
    "\n",
    "Galactic cepheid data is from the following catalog: Fernie, J.D., Beattie, B., Evans, N.R., and Seager, S. 1995, IBVS No. 4148 \n",
    "\n"
   ]
  },
  {
   "cell_type": "code",
   "execution_count": null,
   "metadata": {
    "collapsed": true,
    "jupyter": {
     "outputs_hidden": true
    }
   },
   "outputs": [],
   "source": [
    "# read in cepheid database file (called 'cepheid_db.txt') and call this table c_data\n",
    "c_data = pd.read_table('cepheids_db.txt', sep='\\s+')"
   ]
  },
  {
   "cell_type": "markdown",
   "metadata": {},
   "source": [
    "To see this data, you can simply type the variable c_data:"
   ]
  },
  {
   "cell_type": "code",
   "execution_count": null,
   "metadata": {
    "collapsed": true,
    "jupyter": {
     "outputs_hidden": true
    }
   },
   "outputs": [],
   "source": [
    "c_data"
   ]
  },
  {
   "cell_type": "markdown",
   "metadata": {},
   "source": [
    "What are the names of the columns of this table? Please list them below."
   ]
  },
  {
   "cell_type": "markdown",
   "metadata": {},
   "source": []
  },
  {
   "cell_type": "markdown",
   "metadata": {},
   "source": [
    "The columns we are interested in are:\n",
    "- $m$, the apparent magnitude\n",
    "- $MV$, the absolute magnitude in the V filter\n",
    "- the period (measured in days)\n",
    "\n",
    "To access columns in this table we can make specific calls. Say I want to get all the data in the period column; I can make a call like the following:"
   ]
  },
  {
   "cell_type": "code",
   "execution_count": null,
   "metadata": {
    "collapsed": true,
    "jupyter": {
     "outputs_hidden": true
    }
   },
   "outputs": [],
   "source": [
    "c_data['period']"
   ]
  },
  {
   "cell_type": "markdown",
   "metadata": {},
   "source": [
    "Making this call displays all the period data for our Cepheid sources. Try to access the absolute magnitude ($MV$) column with a similar call below:"
   ]
  },
  {
   "cell_type": "code",
   "execution_count": null,
   "metadata": {
    "collapsed": true,
    "jupyter": {
     "outputs_hidden": true
    }
   },
   "outputs": [],
   "source": [
    "c_data['MV']"
   ]
  },
  {
   "attachments": {},
   "cell_type": "markdown",
   "metadata": {},
   "source": [
    "## 2. Playing with the distance modulus\n",
    "In this section, we will find the distance to each of our sources as practice. As we mentioned above, the *distance modulus* is the following equation:\n",
    "### $m - M = 5\\log_{10}(\\frac{d}{10 \\textrm{pc}})$\n",
    "\n",
    "where:\n",
    "\n",
    "- $m$ = apparent magnitude\n",
    "- $M$ = absolute magnitude \n",
    "- $d$ = distance in parsec (pc)"
   ]
  },
  {
   "attachments": {},
   "cell_type": "markdown",
   "metadata": {},
   "source": [
    "### Solve the distance modulus for $d$, the distance to the source in parsecs\n"
   ]
  },
  {
   "cell_type": "markdown",
   "metadata": {},
   "source": [
    "***(double click me)***\n",
    "\n",
    "$\\text{Insert solved distance modulus between these dollar signs}$"
   ]
  },
  {
   "cell_type": "markdown",
   "metadata": {},
   "source": [
    "Say, we have the equation $y = log(x)$, and we know x is a list of values defined as $x = [1,2,3,4,5]$. We could perform this operation by hand, although it's a bit annoying.\n",
    "(Note: the np.log10 call is the equivalent to taking the $\\log_{10}$ of a number)"
   ]
  },
  {
   "cell_type": "code",
   "execution_count": null,
   "metadata": {
    "collapsed": true,
    "jupyter": {
     "outputs_hidden": true
    }
   },
   "outputs": [],
   "source": [
    "x = [1,2,3,4,5]\n",
    "print(np.log10(1))\n",
    "print(np.log10(2))\n",
    "print(np.log10(3))\n",
    "print(np.log10(4))\n",
    "print(np.log10(5))"
   ]
  },
  {
   "cell_type": "markdown",
   "metadata": {},
   "source": [
    "We can use Tables to perform easy computions and save writing. To perform the following operation within a table we could write something like this:"
   ]
  },
  {
   "cell_type": "code",
   "execution_count": null,
   "metadata": {
    "collapsed": true,
    "jupyter": {
     "outputs_hidden": true
    }
   },
   "outputs": [],
   "source": [
    "x = [1,2,3,4,5]\n",
    "table_example = pd.DataFrame({'x':x}) # defining our data as a table\n",
    "y = np.log10(table_example['x'])"
   ]
  },
  {
   "cell_type": "markdown",
   "metadata": {},
   "source": [
    "Look at the variable y. How does this compare to what was calculated above?"
   ]
  },
  {
   "cell_type": "code",
   "execution_count": null,
   "metadata": {
    "collapsed": true,
    "jupyter": {
     "outputs_hidden": true
    }
   },
   "outputs": [],
   "source": [
    "y"
   ]
  },
  {
   "cell_type": "markdown",
   "metadata": {},
   "source": [
    "Knowing now how to manipute and perform operations with tables, use the expression for $d$ you found above and calculate the distance to each Cepheid."
   ]
  },
  {
   "cell_type": "code",
   "execution_count": null,
   "metadata": {
    "collapsed": true,
    "jupyter": {
     "outputs_hidden": true
    }
   },
   "outputs": [],
   "source": [
    "# your operation to calculate distance\n",
    "distance = \n",
    "\n"
   ]
  },
  {
   "cell_type": "markdown",
   "metadata": {},
   "source": [
    "Now, we'll plot a histogram to see the distribution of distances. On average, how far away are these Cepheids. Are most of these within the Milky Way? (Keep in mind the Milky Way Halo has a radius on the order of 100 kiloparsecs = 100,000 parsecs)"
   ]
  },
  {
   "cell_type": "code",
   "execution_count": null,
   "metadata": {
    "collapsed": true,
    "jupyter": {
     "outputs_hidden": true
    }
   },
   "outputs": [],
   "source": [
    "# plot histrogram of distances\n",
    "plt.hist() # insert distances\n",
    "\n",
    "# plot average distance of cepheids\n",
    "plt.axvline(np.mean(), color = '', label = '') # insert mean distance\n",
    "\n",
    "# plot Milky Way \n",
    "plt.axvline(, color = '', label = '') # insert Milky way halo radius\n",
    "\n",
    "# adjust plot features\n",
    "plt.xlabel('')\n",
    "plt.ylabel('')\n",
    "plt.title('')\n",
    "plt.legend()\n",
    "\n",
    "# show plot\n",
    "plt.show()\n",
    "\n"
   ]
  },
  {
   "cell_type": "markdown",
   "metadata": {},
   "source": [
    "## 3. Plot the Period-Luminosity Relationship from Cepheid Data\n",
    "We will now derive the Period-Luminosity relationship from our database of Cepheids. Below, plot the following:\n",
    "- x-axis: logarithm of the pulsation period\n",
    "- y-axis: absolute magnitude ($MV$) of each Cepheid\n"
   ]
  },
  {
   "cell_type": "code",
   "execution_count": null,
   "metadata": {
    "collapsed": true,
    "jupyter": {
     "outputs_hidden": true
    }
   },
   "outputs": [],
   "source": [
    "plt.scatter(x=1, y=1) # put in the Cepheid data\n",
    "plt.xlim(0,3)\n",
    "plt.title('')\n",
    "plt.xlabel('')\n",
    "plt.ylabel(r'')\n",
    "plt.gca().invert_yaxis()\n",
    "plt.show()"
   ]
  },
  {
   "cell_type": "markdown",
   "metadata": {},
   "source": [
    "What do you notice about this relationship? What kind of equation can describe the best fit line? Do longer period Cepheids tend to be brighter or dimmer?"
   ]
  },
  {
   "cell_type": "markdown",
   "metadata": {},
   "source": [
    "## 4. Estimate the Period-Luminosity relationship\n",
    "Try to fit a line manually to this data using the relationship: $y = mx + b$. In other words, you will need to find a $m$ and $b$ that best fits the data.\n"
   ]
  },
  {
   "cell_type": "markdown",
   "metadata": {},
   "source": [
    "Overplot your best fit line on the data. How well does it appear to fit?"
   ]
  },
  {
   "cell_type": "code",
   "execution_count": null,
   "metadata": {
    "collapsed": true,
    "jupyter": {
     "outputs_hidden": true
    }
   },
   "outputs": [],
   "source": [
    "x = np.arange(0,3)\n",
    "m = m # your m value\n",
    "b = b # your b value\n",
    "\n",
    "plt.scatter(x=1,y=1) # put in the Cepheid data \n",
    "plt.plot(x, m*x+b, color = 'red') # your best fit, make it a different color to see better\n",
    "\n",
    "plt.xlim(0,2.5)\n",
    "plt.title('YOUR BEST FIT: Y = (POLYFIT M) X + (POLYFIT B)')\n",
    "plt.xlabel('YOUR X LABEL')\n",
    "plt.ylabel('YOUR Y LABEL')\n",
    "plt.gca().invert_yaxis()\n",
    "plt.show()"
   ]
  },
  {
   "cell_type": "markdown",
   "metadata": {},
   "source": [
    "Now, we will use a python package that makes fitting lines easy: np.polyfit(), which takes the x and y data, along with the polynomial degree (1 for a linear function). How does the polyfit's estimate compare to yours?"
   ]
  },
  {
   "cell_type": "code",
   "execution_count": null,
   "metadata": {
    "collapsed": true,
    "jupyter": {
     "outputs_hidden": true
    }
   },
   "outputs": [],
   "source": [
    "fit = np.polyfit(x = 1, y = 1, deg=1) # running best fit, change x and y\n",
    "x = np.arange(0,2+1)\n",
    "m = fit[0] # m value from fit\n",
    "b = fit[1] # b value from fit"
   ]
  },
  {
   "cell_type": "markdown",
   "metadata": {},
   "source": [
    "Next, overplot the best fit polyfit on the Cepheid data (Absolute magnitude 'MV' vs log(period))"
   ]
  },
  {
   "cell_type": "code",
   "execution_count": null,
   "metadata": {
    "collapsed": true,
    "jupyter": {
     "outputs_hidden": true
    }
   },
   "outputs": [],
   "source": [
    "plt.scatter(x=1, y=1) # plot your Cepheid Data\n",
    "plt.plot(x, m*x + b, color = 'red') # plot the best fit from np.polyfit\n",
    "plt.gca().invert_yaxis()\n",
    "plt.xlabel('YOUR X LABEL')\n",
    "plt.ylabel('YOUR Y LABEL')\n",
    "plt.title('YOUR BEST FIT: Y = (POLYFIT M) X + (POLYFIT B)')\n",
    "plt.show()"
   ]
  },
  {
   "cell_type": "markdown",
   "metadata": {},
   "source": [
    "## 5. Hubble's Cepheid (M31 V1)\n",
    "![image](Andromeda1923.png.webp)\n"
   ]
  },
  {
   "cell_type": "markdown",
   "metadata": {},
   "source": [
    "### Estimate the period of M31 V1\n",
    "In this directory there is a file called 'aavsodata_64a49d2422f48.txt.' This file has photometric data of Hubble's Cepheid, M31 V1 from 1999 to now. Hubble used the period of this Cepheid to estimate the distance to Andromeda, M31. This file has two columns we are interested in: the 'Magnitude' and 'JD' columns. Here JD means Julian Date, which is a measure of time in units of days. Magnitude here is the *apparent* magnitude (the little m in the distance modulus).\n",
    "\n",
    "Below, look at the data file of M31 V1. Do you see the Magnitude and JD columns?"
   ]
  },
  {
   "cell_type": "code",
   "execution_count": null,
   "metadata": {
    "collapsed": true,
    "jupyter": {
     "outputs_hidden": true
    }
   },
   "outputs": [],
   "source": [
    "M31_V1 = pd.read_csv('aavsodata_64a49d2422f48.txt')"
   ]
  },
  {
   "cell_type": "markdown",
   "metadata": {},
   "source": [
    "Next, plot the following:\n",
    "- 'JD' on the x-axis\n",
    "- 'Magnitude' on the y-axis\n",
    "\n",
    "Do you notice any periodicity? Change your x-limits if you don't already see the periodicity. As a hint, you can grab the minimum value of a list in a table by writing:\n",
    "- YOURTABLE['YOURCOLUMN'].min()"
   ]
  },
  {
   "cell_type": "code",
   "execution_count": null,
   "metadata": {
    "collapsed": true,
    "jupyter": {
     "outputs_hidden": true
    }
   },
   "outputs": [],
   "source": [
    "plt.scatter(, , s=5) # insert M31 V1's data here\n",
    "plt.gca().invert_yaxis()\n",
    "plt.xlabel('YOUR X LABEL')\n",
    "plt.ylabel('YOUR Y LABEL')\n",
    "plt.title('YOUR TITLE')\n",
    "plt.xlim(M31_V1['JD'][0], M31_V1['JD'][200]) # insert your limits here\n",
    "plt.show()"
   ]
  },
  {
   "cell_type": "markdown",
   "metadata": {},
   "source": [
    "Estimate the period of M31 V1. Remember, a period is defined as the time it takes for a sin wave to oscillate from high values to low values and back to high values."
   ]
  },
  {
   "cell_type": "markdown",
   "metadata": {},
   "source": [
    "We will now plot M31 V1's data and and your period estimate. Does your period estimate look ok?"
   ]
  },
  {
   "cell_type": "code",
   "execution_count": null,
   "metadata": {
    "collapsed": true,
    "jupyter": {
     "outputs_hidden": true
    }
   },
   "outputs": [],
   "source": [
    "x = np.arange(M31_V1['JD'].min(), M31_V1['JD'].max())\n",
    "period =  # your period\n",
    "h_shift =  # horizontal shift of sin wave \n",
    "\n",
    "plt.scatter((), (), s=5) # plot M31 V1 data\n",
    "\n",
    "plt.plot(x, 1*np.sin(((2*np.pi*x/period)) + h_shift)+19, color = 'red', linestyle = '--') # plotting a sin wave, an estimate of the oscillation shape\n",
    "\n",
    "plt.xlim() # put in your limits from above\n",
    "plt.xlabel('YOUR X LABEL')\n",
    "plt.ylabel('YOUR Y LABEL')\n",
    "plt.title('YOUR TITLE')\n",
    "plt.gca().invert_yaxis() \n",
    "plt.show()"
   ]
  },
  {
   "cell_type": "markdown",
   "metadata": {},
   "source": [
    "### Phase diagram\n",
    "Another way of plotting the period behavior is to think in terms of *cycles* or *phase*. For example, a phase of 0.5 means we are halfway through a complete cycle. A phase of 1 means we have just completed one complete cycle. For more information on this, see this link:\n",
    "\n",
    "[https://www.aavso.org/sites/default/files/Chapter12.pdf]\n",
    "\n",
    "\n",
    "Let's plot this out by subtracting the x axis by M31_V1['JD'][0] and *normalizing* (divide) the x axis by 32"
   ]
  },
  {
   "cell_type": "code",
   "execution_count": null,
   "metadata": {
    "collapsed": true,
    "jupyter": {
     "outputs_hidden": true
    }
   },
   "outputs": [],
   "source": [
    "x = np.arange(M31_V1['JD'].min(), M31_V1['JD'].max())\n",
    "period =  # your period\n",
    "h_shift =  # horizontal shift of sin wave \n",
    "\n",
    "plt.scatter((), (), s=5) # plot M31 V1 data\n",
    "\n",
    "plt.plot((x, 1*np.sin(((2*np.pi*x/period)) + h_shift)+19, color = 'red', linestyle = '--') # plotting a sin wave, an estimate of the oscillation shape\n",
    "\n",
    "plt.xlim((), ()) # put in your limits from above\n",
    "\n",
    "plt.xlabel('YOUR X LABEL')\n",
    "plt.ylabel('YOUR Y LABEL')\n",
    "plt.title('YOUR TITLE')\n",
    "plt.gca().invert_yaxis() \n",
    "plt.show()"
   ]
  },
  {
   "cell_type": "markdown",
   "metadata": {},
   "source": [
    "### Using M31 V1's period and your Period-Luminoisty fit, what is the distance to Andromeda? "
   ]
  },
  {
   "cell_type": "markdown",
   "metadata": {},
   "source": [
    "# Steps:\n",
    "\n",
    "1. Get Absolute magnitude of V1 with the period you found (hint: look at the period-luminosity relationship you derived!).\n",
    "2. Using its apparent magnitude of V1, use the distance modulus to find its distance! (Since we used median absolute magnitude to find the period luminosity relationship, we'll want to use the median apparent magnitude)."
   ]
  },
  {
   "cell_type": "markdown",
   "metadata": {},
   "source": [
    "## Compare the distance to Andromeda to the Milky Way halo radius. Is it possible for Andromeda to be within the Milky Way?"
   ]
  },
  {
   "cell_type": "code",
   "execution_count": null,
   "metadata": {
    "collapsed": true,
    "jupyter": {
     "outputs_hidden": true
    }
   },
   "outputs": [],
   "source": []
  }
 ],
 "metadata": {
  "interpreter": {
   "hash": "40b05493ddcf8e9507683538249caa61aa01626b793e566d994882f595f5286b"
  },
  "kernelspec": {
   "display_name": "Python 3 (ipykernel)",
   "language": "python",
   "name": "python3"
  },
  "language_info": {
   "codemirror_mode": {
    "name": "ipython",
    "version": 3
   },
   "file_extension": ".py",
   "mimetype": "text/x-python",
   "name": "python",
   "nbconvert_exporter": "python",
   "pygments_lexer": "ipython3",
   "version": "3.12.0"
  }
 },
 "nbformat": 4,
 "nbformat_minor": 4
}
